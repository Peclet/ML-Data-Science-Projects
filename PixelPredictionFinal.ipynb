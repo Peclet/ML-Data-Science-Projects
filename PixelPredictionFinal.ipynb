{
 "cells": [
  {
   "cell_type": "markdown",
   "metadata": {},
   "source": [
    "# Simple Example for the Pixel Prediction Challenge\n",
    "\n",
    "First show the data files, you should see four lines."
   ]
  },
  {
   "cell_type": "code",
   "execution_count": 108,
   "metadata": {
    "_cell_guid": "b1076dfc-b9ad-4769-8c92-a6c4dae69d19",
    "_uuid": "8f2839f25d086af736a60e9eeb907d3b93b6e0e5"
   },
   "outputs": [
    {
     "name": "stdout",
     "output_type": "stream",
     "text": [
      "C:/Users/doad224/Downloads/roxie\\roxie_full_features.csv\n",
      "C:/Users/doad224/Downloads/roxie\\roxie_test_features.csv\n",
      "C:/Users/doad224/Downloads/roxie\\roxie_train_features.csv\n",
      "C:/Users/doad224/Downloads/roxie\\roxie_train_values.csv\n"
     ]
    }
   ],
   "source": [
    "import numpy as np # linear algebra\n",
    "import numpy as np\n",
    "import matplotlib.pyplot as plt\n",
    "import os\n",
    "for dirname, _, filenames in os.walk('C:/Users/doad224/Downloads/roxie'):\n",
    "    for filename in filenames:\n",
    "        print(os.path.join(dirname, filename))"
   ]
  },
  {
   "cell_type": "markdown",
   "metadata": {},
   "source": [
    "# Load the data\n",
    "\n",
    "Remove row ids as appropriate so they don't get used as features."
   ]
  },
  {
   "cell_type": "code",
   "execution_count": 109,
   "metadata": {
    "_cell_guid": "79c7e3d0-c299-4dcb-8224-4455121ee9b0",
    "_uuid": "d629ff2d2480ee46fbb7e2d37f6b5fab8052498a"
   },
   "outputs": [],
   "source": [
    "base_dir = 'C:/Users/doad224/Downloads/roxie/'\n",
    "\n",
    "X_train = np.loadtxt(base_dir + \"roxie_train_features.csv\", delimiter=\",\")[:,1:]\n",
    "X_test = np.loadtxt(base_dir + \"roxie_test_features.csv\", delimiter=\",\")\n",
    "ids_test = X_test[:,(0,)]\n",
    "X_test = X_test[:,1:]\n",
    "y_train = np.loadtxt(base_dir + \"roxie_train_values.csv\", delimiter=\",\", ndmin=2)[:,(1,)]"
   ]
  },
  {
   "cell_type": "code",
   "execution_count": 110,
   "metadata": {},
   "outputs": [],
   "source": [
    "X_train = X_train/255.\n",
    "X_test = X_test/255."
   ]
  },
  {
   "cell_type": "code",
   "execution_count": 111,
   "metadata": {},
   "outputs": [],
   "source": [
    "from sklearn.preprocessing import MinMaxScaler\n",
    "from sklearn.ensemble import RandomForestRegressor\n",
    "sc = MinMaxScaler()\n",
    "X_train_new = sc.fit_transform(X_train)\n",
    "X_test_new= sc.fit_transform(X_test)"
   ]
  },
  {
   "cell_type": "markdown",
   "metadata": {},
   "source": [
    "# Train Model"
   ]
  },
  {
   "cell_type": "code",
   "execution_count": 112,
   "metadata": {},
   "outputs": [],
   "source": [
    "from sklearn.model_selection import train_test_split\n",
    "xTrain, xTest, yTrain, yTest = train_test_split(X_train_new, y_train, test_size = 0.1, random_state = 42)"
   ]
  },
  {
   "cell_type": "code",
   "execution_count": 113,
   "metadata": {},
   "outputs": [
    {
     "name": "stderr",
     "output_type": "stream",
     "text": [
      "C:\\Users\\doad224\\AppData\\Local\\Continuum\\anaconda3\\lib\\site-packages\\ipykernel_launcher.py:10: DataConversionWarning: A column-vector y was passed when a 1d array was expected. Please change the shape of y to (n_samples,), for example using ravel().\n",
      "  # Remove the CWD from sys.path while we load stuff.\n"
     ]
    },
    {
     "data": {
      "text/plain": [
       "-0.00018947726045626112"
      ]
     },
     "execution_count": 113,
     "metadata": {},
     "output_type": "execute_result"
    }
   ],
   "source": [
    "from sklearn.ensemble import RandomForestRegressor\n",
    "from sklearn.datasets import make_regression\n",
    "from sklearn.tree import DecisionTreeRegressor\n",
    "from sklearn.neighbors import KNeighborsRegressor\n",
    "from sklearn.linear_model import LinearRegression\n",
    "from sklearn.linear_model import LogisticRegression\n",
    "mdl = RandomForestRegressor(max_depth=0.00001, criterion='mse',random_state=400,n_estimators=1, bootstrap = False)\n",
    "#mdl = KNeighborsRegressor(n_neighbors=2)\n",
    "#mdl = DecisionTreeRegressor()\n",
    "mdl.fit(xTrain, yTrain)\n",
    "mdl.score(xTest, yTest)\n",
    "# make predictions on test data\n",
    "#y_pred = mdl.predict(X_test)"
   ]
  },
  {
   "cell_type": "code",
   "execution_count": 114,
   "metadata": {},
   "outputs": [
    {
     "name": "stderr",
     "output_type": "stream",
     "text": [
      "C:\\Users\\doad224\\AppData\\Local\\Continuum\\anaconda3\\lib\\site-packages\\ipykernel_launcher.py:10: DataConversionWarning: A column-vector y was passed when a 1d array was expected. Please change the shape of y to (n_samples,), for example using ravel().\n",
      "  # Remove the CWD from sys.path while we load stuff.\n"
     ]
    }
   ],
   "source": [
    "from sklearn.tree import DecisionTreeRegressor\n",
    "from sklearn.tree import DecisionTreeRegressor\n",
    "from sklearn.neighbors import KNeighborsRegressor\n",
    "from sklearn.linear_model import LogisticRegression\n",
    "# train model\n",
    "#mdl = KNeighborsRegressor(n_neighbors=2)\n",
    "#mdl = DecisionTreeRegressor()\n",
    "#mdl = RandomForestRegressor(max_depth=1, min_samples_split=250, min_samples_leaf=19,criterion='mse',random_state=0,n_estimators=1)\n",
    "\n",
    "mdl.fit(X_train, y_train)\n",
    "\n",
    "# make predictions on test data\n",
    "y_pred = mdl.predict(X_test)"
   ]
  },
  {
   "cell_type": "markdown",
   "metadata": {},
   "source": [
    "## Export predictions"
   ]
  },
  {
   "cell_type": "code",
   "execution_count": 115,
   "metadata": {},
   "outputs": [],
   "source": [
    "output = np.concatenate((ids_test, y_pred[:,np.newaxis]), axis=1)\n",
    "np.savetxt(\"submission_decision_tree.csv\", output, delimiter=\",\", fmt='%1.4f', header='ID,intensity')"
   ]
  },
  {
   "cell_type": "markdown",
   "metadata": {},
   "source": [
    "## Visualize the learned model"
   ]
  },
  {
   "cell_type": "code",
   "execution_count": 116,
   "metadata": {},
   "outputs": [
    {
     "data": {
      "image/png": "[encoded data removed]",
      "text/plain": [
       "<Figure size 720x1080 with 1 Axes>"
      ]
     },
     "metadata": {
      "needs_background": "light"
     },
     "output_type": "display_data"
    }
   ],
   "source": [
    "# this file contains all pixels (the union of the train and test sets)\n",
    "X_full = np.loadtxt(base_dir + \"roxie_full_features.csv\", delimiter=\",\")\n",
    "\n",
    "# make predictions for all pixels\n",
    "y_pred = mdl.predict(X_full)\n",
    "\n",
    "# show it as an image\n",
    "plt.figure(figsize=(10,15))\n",
    "plt.imshow(y_pred.reshape((650,430,3)));"
   ]
  }
 ],
 "metadata": {
  "kernelspec": {
   "display_name": "Python 3",
   "language": "python",
   "name": "python3"
  },
  "language_info": {
   "codemirror_mode": {
    "name": "ipython",
    "version": 3
   },
   "file_extension": ".py",
   "mimetype": "text/x-python",
   "name": "python",
   "nbconvert_exporter": "python",
   "pygments_lexer": "ipython3",
   "version": "3.7.4"
  }
 },
 "nbformat": 4,
 "nbformat_minor": 1
}
